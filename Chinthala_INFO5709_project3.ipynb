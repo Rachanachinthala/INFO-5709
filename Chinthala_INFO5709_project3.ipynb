{
  "nbformat": 4,
  "nbformat_minor": 0,
  "metadata": {
    "colab": {
      "name": "Chinthala_INFO5709_project3.ipynb",
      "provenance": [],
      "collapsed_sections": []
    },
    "kernelspec": {
      "name": "python3",
      "display_name": "Python 3"
    },
    "language_info": {
      "name": "python"
    }
  },
  "cells": [
    {
      "cell_type": "code",
      "metadata": {
        "id": "OYFA3QNMWFUz"
      },
      "source": [
        "import pandas as pd\n",
        "import numpy as np\n",
        "import seaborn as sns #visualisation\n",
        "import matplotlib.pyplot as plt #visualisation\n",
        "%matplotlib inline \n",
        "sns.set(color_codes=True)\n"
      ],
      "execution_count": 25,
      "outputs": []
    },
    {
      "cell_type": "code",
      "metadata": {
        "id": "v82xt8_fW2Y5",
        "colab": {
          "base_uri": "https://localhost:8080/",
          "height": 568
        },
        "outputId": "05578e4c-7fdc-46aa-b22c-317d36ff3b7d"
      },
      "source": [
        "df = pd.read_csv('/content/cleanedtsunamidata.csv')\n",
        "# To display the top 5 rows\n",
        "df.head(5)\n"
      ],
      "execution_count": 26,
      "outputs": [
        {
          "output_type": "execute_result",
          "data": {
            "text/html": [
              "<div>\n",
              "<style scoped>\n",
              "    .dataframe tbody tr th:only-of-type {\n",
              "        vertical-align: middle;\n",
              "    }\n",
              "\n",
              "    .dataframe tbody tr th {\n",
              "        vertical-align: top;\n",
              "    }\n",
              "\n",
              "    .dataframe thead th {\n",
              "        text-align: right;\n",
              "    }\n",
              "</style>\n",
              "<table border=\"1\" class=\"dataframe\">\n",
              "  <thead>\n",
              "    <tr style=\"text-align: right;\">\n",
              "      <th></th>\n",
              "      <th>Unnamed: 0</th>\n",
              "      <th>ID</th>\n",
              "      <th>YEAR</th>\n",
              "      <th>MONTH</th>\n",
              "      <th>DAY</th>\n",
              "      <th>HOUR</th>\n",
              "      <th>MINUTE</th>\n",
              "      <th>LATITUDE</th>\n",
              "      <th>LONGITUDE</th>\n",
              "      <th>LOCATION_NAME</th>\n",
              "      <th>COUNTRY</th>\n",
              "      <th>REGION</th>\n",
              "      <th>CAUSE</th>\n",
              "      <th>EVENT_VALIDITY</th>\n",
              "      <th>EQ_MAGNITUDE</th>\n",
              "      <th>EQ_DEPTH</th>\n",
              "      <th>TS_INTENSITY</th>\n",
              "      <th>DAMAGE_TOTAL_DESCRIPTION</th>\n",
              "      <th>HOUSES_TOTAL_DESCRIPTION</th>\n",
              "      <th>DEATHS_TOTAL_DESCRIPTION</th>\n",
              "      <th>URL</th>\n",
              "      <th>COMMENTS</th>\n",
              "    </tr>\n",
              "  </thead>\n",
              "  <tbody>\n",
              "    <tr>\n",
              "      <th>0</th>\n",
              "      <td>147</td>\n",
              "      <td>325</td>\n",
              "      <td>1678</td>\n",
              "      <td>6.0</td>\n",
              "      <td>18.0</td>\n",
              "      <td>1.0</td>\n",
              "      <td>45.0</td>\n",
              "      <td>-9.000</td>\n",
              "      <td>-79.000</td>\n",
              "      <td>CENTRAL PERU</td>\n",
              "      <td>PERU</td>\n",
              "      <td>West Coast of South America</td>\n",
              "      <td>Earthquake</td>\n",
              "      <td>Probable Tsunami</td>\n",
              "      <td>8.4</td>\n",
              "      <td>40.0</td>\n",
              "      <td>2.5</td>\n",
              "      <td>Severe (~&gt;$5 to $24 million)</td>\n",
              "      <td>Many (~101 to 1000 houses)</td>\n",
              "      <td>Many (~101 to 1000 people)</td>\n",
              "      <td>https://www.ngdc.noaa.gov/hazel/view/hazards/t...</td>\n",
              "      <td>1678, June 17 (other sources give 8 January) [...</td>\n",
              "    </tr>\n",
              "    <tr>\n",
              "      <th>1</th>\n",
              "      <td>161</td>\n",
              "      <td>194</td>\n",
              "      <td>1586</td>\n",
              "      <td>7.0</td>\n",
              "      <td>10.0</td>\n",
              "      <td>0.0</td>\n",
              "      <td>30.0</td>\n",
              "      <td>-12.300</td>\n",
              "      <td>-77.700</td>\n",
              "      <td>CENTRAL PERU</td>\n",
              "      <td>PERU</td>\n",
              "      <td>West Coast of South America</td>\n",
              "      <td>Earthquake</td>\n",
              "      <td>Definite Tsunami</td>\n",
              "      <td>8.5</td>\n",
              "      <td>60.0</td>\n",
              "      <td>3.5</td>\n",
              "      <td>Severe (~&gt;$5 to $24 million)</td>\n",
              "      <td>Many (~101 to 1000 houses)</td>\n",
              "      <td>Few (~1 to 50 people)</td>\n",
              "      <td>https://www.ngdc.noaa.gov/hazel/view/hazards/t...</td>\n",
              "      <td>There was a severe earthquake near Lima, Peru ...</td>\n",
              "    </tr>\n",
              "    <tr>\n",
              "      <th>2</th>\n",
              "      <td>193</td>\n",
              "      <td>212</td>\n",
              "      <td>1604</td>\n",
              "      <td>11.0</td>\n",
              "      <td>24.0</td>\n",
              "      <td>18.0</td>\n",
              "      <td>30.0</td>\n",
              "      <td>-17.880</td>\n",
              "      <td>-70.940</td>\n",
              "      <td>S. PERU</td>\n",
              "      <td>PERU</td>\n",
              "      <td>West Coast of South America</td>\n",
              "      <td>Earthquake</td>\n",
              "      <td>Definite Tsunami</td>\n",
              "      <td>8.5</td>\n",
              "      <td>30.0</td>\n",
              "      <td>3.5</td>\n",
              "      <td>Severe (~&gt;$5 to $24 million)</td>\n",
              "      <td>Many (~101 to 1000 houses)</td>\n",
              "      <td>Many (~101 to 1000 people)</td>\n",
              "      <td>https://www.ngdc.noaa.gov/hazel/view/hazards/t...</td>\n",
              "      <td>1604 (erroneously 1605), November 23 or 24 (er...</td>\n",
              "    </tr>\n",
              "    <tr>\n",
              "      <th>3</th>\n",
              "      <td>247</td>\n",
              "      <td>424</td>\n",
              "      <td>1746</td>\n",
              "      <td>10.0</td>\n",
              "      <td>29.0</td>\n",
              "      <td>3.0</td>\n",
              "      <td>30.0</td>\n",
              "      <td>-11.996</td>\n",
              "      <td>-77.198</td>\n",
              "      <td>CENTRAL PERU</td>\n",
              "      <td>PERU</td>\n",
              "      <td>West Coast of South America</td>\n",
              "      <td>Earthquake</td>\n",
              "      <td>Definite Tsunami</td>\n",
              "      <td>8.0</td>\n",
              "      <td>30.0</td>\n",
              "      <td>3.5</td>\n",
              "      <td>Extreme (~$25 million or more)</td>\n",
              "      <td>Very Many (~1001 or more houses)</td>\n",
              "      <td>Very Many (~1001 or more people)</td>\n",
              "      <td>https://www.ngdc.noaa.gov/hazel/view/hazards/t...</td>\n",
              "      <td>On October 28, 1746 (erroneously 1724), at 22:...</td>\n",
              "    </tr>\n",
              "    <tr>\n",
              "      <th>4</th>\n",
              "      <td>254</td>\n",
              "      <td>315</td>\n",
              "      <td>1674</td>\n",
              "      <td>2.0</td>\n",
              "      <td>17.0</td>\n",
              "      <td>11.0</td>\n",
              "      <td>30.0</td>\n",
              "      <td>-3.750</td>\n",
              "      <td>127.750</td>\n",
              "      <td>BANDA SEA</td>\n",
              "      <td>INDONESIA</td>\n",
              "      <td>Indonesia (Pacific Ocean) and Malaysia</td>\n",
              "      <td>Earthquake</td>\n",
              "      <td>Definite Tsunami</td>\n",
              "      <td>6.8</td>\n",
              "      <td>40.0</td>\n",
              "      <td>1.5</td>\n",
              "      <td>Severe (~&gt;$5 to $24 million)</td>\n",
              "      <td>Many (~101 to 1000 houses)</td>\n",
              "      <td>Very Many (~1001 or more people)</td>\n",
              "      <td>https://www.ngdc.noaa.gov/hazel/view/hazards/t...</td>\n",
              "      <td>&lt;P&gt;&lt;blockquote&gt;&lt;i&gt;Reference #414:&lt;/i&gt;&lt;/blockqu...</td>\n",
              "    </tr>\n",
              "  </tbody>\n",
              "</table>\n",
              "</div>"
            ],
            "text/plain": [
              "   Unnamed: 0  ...                                           COMMENTS\n",
              "0         147  ...  1678, June 17 (other sources give 8 January) [...\n",
              "1         161  ...  There was a severe earthquake near Lima, Peru ...\n",
              "2         193  ...  1604 (erroneously 1605), November 23 or 24 (er...\n",
              "3         247  ...  On October 28, 1746 (erroneously 1724), at 22:...\n",
              "4         254  ...  <P><blockquote><i>Reference #414:</i></blockqu...\n",
              "\n",
              "[5 rows x 22 columns]"
            ]
          },
          "metadata": {
            "tags": []
          },
          "execution_count": 26
        }
      ]
    },
    {
      "cell_type": "code",
      "metadata": {
        "colab": {
          "base_uri": "https://localhost:8080/",
          "height": 585
        },
        "id": "lx6pwrdqXedN",
        "outputId": "4a60a8aa-41af-4ad8-eefc-cde7efbe3c14"
      },
      "source": [
        "# To display the bottom 5 rows\n",
        "df.tail(5) \n"
      ],
      "execution_count": 27,
      "outputs": [
        {
          "output_type": "execute_result",
          "data": {
            "text/html": [
              "<div>\n",
              "<style scoped>\n",
              "    .dataframe tbody tr th:only-of-type {\n",
              "        vertical-align: middle;\n",
              "    }\n",
              "\n",
              "    .dataframe tbody tr th {\n",
              "        vertical-align: top;\n",
              "    }\n",
              "\n",
              "    .dataframe thead th {\n",
              "        text-align: right;\n",
              "    }\n",
              "</style>\n",
              "<table border=\"1\" class=\"dataframe\">\n",
              "  <thead>\n",
              "    <tr style=\"text-align: right;\">\n",
              "      <th></th>\n",
              "      <th>Unnamed: 0</th>\n",
              "      <th>ID</th>\n",
              "      <th>YEAR</th>\n",
              "      <th>MONTH</th>\n",
              "      <th>DAY</th>\n",
              "      <th>HOUR</th>\n",
              "      <th>MINUTE</th>\n",
              "      <th>LATITUDE</th>\n",
              "      <th>LONGITUDE</th>\n",
              "      <th>LOCATION_NAME</th>\n",
              "      <th>COUNTRY</th>\n",
              "      <th>REGION</th>\n",
              "      <th>CAUSE</th>\n",
              "      <th>EVENT_VALIDITY</th>\n",
              "      <th>EQ_MAGNITUDE</th>\n",
              "      <th>EQ_DEPTH</th>\n",
              "      <th>TS_INTENSITY</th>\n",
              "      <th>DAMAGE_TOTAL_DESCRIPTION</th>\n",
              "      <th>HOUSES_TOTAL_DESCRIPTION</th>\n",
              "      <th>DEATHS_TOTAL_DESCRIPTION</th>\n",
              "      <th>URL</th>\n",
              "      <th>COMMENTS</th>\n",
              "    </tr>\n",
              "  </thead>\n",
              "  <tbody>\n",
              "    <tr>\n",
              "      <th>116</th>\n",
              "      <td>1504</td>\n",
              "      <td>2214</td>\n",
              "      <td>1992</td>\n",
              "      <td>12.0</td>\n",
              "      <td>12.0</td>\n",
              "      <td>5.0</td>\n",
              "      <td>29.0</td>\n",
              "      <td>-8.480</td>\n",
              "      <td>121.896</td>\n",
              "      <td>FLORES SEA</td>\n",
              "      <td>INDONESIA</td>\n",
              "      <td>Indian Ocean (including west coast of Australia)</td>\n",
              "      <td>Earthquake</td>\n",
              "      <td>Definite Tsunami</td>\n",
              "      <td>7.8</td>\n",
              "      <td>28.0</td>\n",
              "      <td>2.7</td>\n",
              "      <td>Extreme (~$25 million or more)</td>\n",
              "      <td>Very Many (~1001 or more houses)</td>\n",
              "      <td>Very Many (~1001 or more people)</td>\n",
              "      <td>https://www.ngdc.noaa.gov/hazel/view/hazards/t...</td>\n",
              "      <td>On December 12, 1992, a magnitude 7.5 Ms (USGS...</td>\n",
              "    </tr>\n",
              "    <tr>\n",
              "      <th>117</th>\n",
              "      <td>1533</td>\n",
              "      <td>2769</td>\n",
              "      <td>1783</td>\n",
              "      <td>2.0</td>\n",
              "      <td>5.0</td>\n",
              "      <td>12.0</td>\n",
              "      <td>0.0</td>\n",
              "      <td>38.300</td>\n",
              "      <td>15.967</td>\n",
              "      <td>TYRRHENIAN CALABRIA</td>\n",
              "      <td>ITALY</td>\n",
              "      <td>Mediterranean Sea</td>\n",
              "      <td>Earthquake</td>\n",
              "      <td>Definite Tsunami</td>\n",
              "      <td>6.9</td>\n",
              "      <td>13.0</td>\n",
              "      <td>4.0</td>\n",
              "      <td>Extreme (~$25 million or more)</td>\n",
              "      <td>Very Many (~1001 or more houses)</td>\n",
              "      <td>Very Many (~1001 or more people)</td>\n",
              "      <td>https://www.ngdc.noaa.gov/hazel/view/hazards/t...</td>\n",
              "      <td>In 1783 Calabria (southern Italy) was shaken b...</td>\n",
              "    </tr>\n",
              "    <tr>\n",
              "      <th>118</th>\n",
              "      <td>1571</td>\n",
              "      <td>2916</td>\n",
              "      <td>1980</td>\n",
              "      <td>10.0</td>\n",
              "      <td>10.0</td>\n",
              "      <td>12.0</td>\n",
              "      <td>25.0</td>\n",
              "      <td>36.195</td>\n",
              "      <td>1.354</td>\n",
              "      <td>EL ASNAM</td>\n",
              "      <td>ALGERIA</td>\n",
              "      <td>Mediterranean Sea</td>\n",
              "      <td>Earthquake and Landslide</td>\n",
              "      <td>Definite Tsunami</td>\n",
              "      <td>7.7</td>\n",
              "      <td>10.0</td>\n",
              "      <td>2.0</td>\n",
              "      <td>Extreme (~$25 million or more)</td>\n",
              "      <td>Very Many (~1001 or more houses)</td>\n",
              "      <td>Very Many (~1001 or more people)</td>\n",
              "      <td>https://www.ngdc.noaa.gov/hazel/view/hazards/t...</td>\n",
              "      <td>Sergey Soloviev studied this event in a trip t...</td>\n",
              "    </tr>\n",
              "    <tr>\n",
              "      <th>119</th>\n",
              "      <td>1771</td>\n",
              "      <td>3411</td>\n",
              "      <td>1905</td>\n",
              "      <td>9.0</td>\n",
              "      <td>8.0</td>\n",
              "      <td>1.0</td>\n",
              "      <td>43.0</td>\n",
              "      <td>38.670</td>\n",
              "      <td>16.070</td>\n",
              "      <td>TYRRHENIAN CALABRIA</td>\n",
              "      <td>ITALY</td>\n",
              "      <td>Mediterranean Sea</td>\n",
              "      <td>Earthquake</td>\n",
              "      <td>Definite Tsunami</td>\n",
              "      <td>7.1</td>\n",
              "      <td>15.0</td>\n",
              "      <td>4.0</td>\n",
              "      <td>Extreme (~$25 million or more)</td>\n",
              "      <td>Very Many (~1001 or more houses)</td>\n",
              "      <td>Many (~101 to 1000 people)</td>\n",
              "      <td>https://www.ngdc.noaa.gov/hazel/view/hazards/t...</td>\n",
              "      <td>1905, September 8 01:43:11 UTC. 38.56 N, 16.07...</td>\n",
              "    </tr>\n",
              "    <tr>\n",
              "      <th>120</th>\n",
              "      <td>2012</td>\n",
              "      <td>5456</td>\n",
              "      <td>1897</td>\n",
              "      <td>10.0</td>\n",
              "      <td>18.0</td>\n",
              "      <td>23.0</td>\n",
              "      <td>48.0</td>\n",
              "      <td>12.000</td>\n",
              "      <td>126.000</td>\n",
              "      <td>SAMAR ISLAND</td>\n",
              "      <td>PHILIPPINES</td>\n",
              "      <td>China, North and South Korea, Philippines, Taiwan</td>\n",
              "      <td>Earthquake</td>\n",
              "      <td>Probable Tsunami</td>\n",
              "      <td>8.1</td>\n",
              "      <td>33.0</td>\n",
              "      <td>1.5</td>\n",
              "      <td>Moderate (~$1 to $5 million)</td>\n",
              "      <td>Few (~1 to 50 houses)</td>\n",
              "      <td>Few (~1 to 50 people)</td>\n",
              "      <td>https://www.ngdc.noaa.gov/hazel/view/hazards/t...</td>\n",
              "      <td>&lt;P&gt;&lt;blockquote&gt;&lt;i&gt;Reference #414:&lt;/i&gt;&lt;/blockqu...</td>\n",
              "    </tr>\n",
              "  </tbody>\n",
              "</table>\n",
              "</div>"
            ],
            "text/plain": [
              "     Unnamed: 0  ...                                           COMMENTS\n",
              "116        1504  ...  On December 12, 1992, a magnitude 7.5 Ms (USGS...\n",
              "117        1533  ...  In 1783 Calabria (southern Italy) was shaken b...\n",
              "118        1571  ...  Sergey Soloviev studied this event in a trip t...\n",
              "119        1771  ...  1905, September 8 01:43:11 UTC. 38.56 N, 16.07...\n",
              "120        2012  ...  <P><blockquote><i>Reference #414:</i></blockqu...\n",
              "\n",
              "[5 rows x 22 columns]"
            ]
          },
          "metadata": {
            "tags": []
          },
          "execution_count": 27
        }
      ]
    },
    {
      "cell_type": "code",
      "metadata": {
        "id": "0ZRt8MLoh-rH"
      },
      "source": [
        "df= df.drop(['Unnamed: 0','COMMENTS', 'URL'], axis=1\t)"
      ],
      "execution_count": 29,
      "outputs": []
    },
    {
      "cell_type": "code",
      "metadata": {
        "colab": {
          "base_uri": "https://localhost:8080/"
        },
        "id": "D9k5dOKuXlwE",
        "outputId": "1298afa9-8506-4851-92c5-5ea4193dd271"
      },
      "source": [
        "df.dtypes\n"
      ],
      "execution_count": 30,
      "outputs": [
        {
          "output_type": "execute_result",
          "data": {
            "text/plain": [
              "ID                            int64\n",
              "YEAR                          int64\n",
              "MONTH                       float64\n",
              "DAY                         float64\n",
              "HOUR                        float64\n",
              "MINUTE                      float64\n",
              "LATITUDE                    float64\n",
              "LONGITUDE                   float64\n",
              "LOCATION_NAME                object\n",
              "COUNTRY                      object\n",
              "REGION                       object\n",
              "CAUSE                        object\n",
              "EVENT_VALIDITY               object\n",
              "EQ_MAGNITUDE                float64\n",
              "EQ_DEPTH                    float64\n",
              "TS_INTENSITY                float64\n",
              "DAMAGE_TOTAL_DESCRIPTION     object\n",
              "HOUSES_TOTAL_DESCRIPTION     object\n",
              "DEATHS_TOTAL_DESCRIPTION     object\n",
              "dtype: object"
            ]
          },
          "metadata": {
            "tags": []
          },
          "execution_count": 30
        }
      ]
    },
    {
      "cell_type": "code",
      "metadata": {
        "colab": {
          "base_uri": "https://localhost:8080/",
          "height": 484
        },
        "id": "0tpXRPsfXorj",
        "outputId": "22d9eb77-8961-4678-db82-7d69f1ab43ea"
      },
      "source": [
        "df.head(5)\n"
      ],
      "execution_count": 31,
      "outputs": [
        {
          "output_type": "execute_result",
          "data": {
            "text/html": [
              "<div>\n",
              "<style scoped>\n",
              "    .dataframe tbody tr th:only-of-type {\n",
              "        vertical-align: middle;\n",
              "    }\n",
              "\n",
              "    .dataframe tbody tr th {\n",
              "        vertical-align: top;\n",
              "    }\n",
              "\n",
              "    .dataframe thead th {\n",
              "        text-align: right;\n",
              "    }\n",
              "</style>\n",
              "<table border=\"1\" class=\"dataframe\">\n",
              "  <thead>\n",
              "    <tr style=\"text-align: right;\">\n",
              "      <th></th>\n",
              "      <th>ID</th>\n",
              "      <th>YEAR</th>\n",
              "      <th>MONTH</th>\n",
              "      <th>DAY</th>\n",
              "      <th>HOUR</th>\n",
              "      <th>MINUTE</th>\n",
              "      <th>LATITUDE</th>\n",
              "      <th>LONGITUDE</th>\n",
              "      <th>LOCATION_NAME</th>\n",
              "      <th>COUNTRY</th>\n",
              "      <th>REGION</th>\n",
              "      <th>CAUSE</th>\n",
              "      <th>EVENT_VALIDITY</th>\n",
              "      <th>EQ_MAGNITUDE</th>\n",
              "      <th>EQ_DEPTH</th>\n",
              "      <th>TS_INTENSITY</th>\n",
              "      <th>DAMAGE_TOTAL_DESCRIPTION</th>\n",
              "      <th>HOUSES_TOTAL_DESCRIPTION</th>\n",
              "      <th>DEATHS_TOTAL_DESCRIPTION</th>\n",
              "    </tr>\n",
              "  </thead>\n",
              "  <tbody>\n",
              "    <tr>\n",
              "      <th>0</th>\n",
              "      <td>325</td>\n",
              "      <td>1678</td>\n",
              "      <td>6.0</td>\n",
              "      <td>18.0</td>\n",
              "      <td>1.0</td>\n",
              "      <td>45.0</td>\n",
              "      <td>-9.000</td>\n",
              "      <td>-79.000</td>\n",
              "      <td>CENTRAL PERU</td>\n",
              "      <td>PERU</td>\n",
              "      <td>West Coast of South America</td>\n",
              "      <td>Earthquake</td>\n",
              "      <td>Probable Tsunami</td>\n",
              "      <td>8.4</td>\n",
              "      <td>40.0</td>\n",
              "      <td>2.5</td>\n",
              "      <td>Severe (~&gt;$5 to $24 million)</td>\n",
              "      <td>Many (~101 to 1000 houses)</td>\n",
              "      <td>Many (~101 to 1000 people)</td>\n",
              "    </tr>\n",
              "    <tr>\n",
              "      <th>1</th>\n",
              "      <td>194</td>\n",
              "      <td>1586</td>\n",
              "      <td>7.0</td>\n",
              "      <td>10.0</td>\n",
              "      <td>0.0</td>\n",
              "      <td>30.0</td>\n",
              "      <td>-12.300</td>\n",
              "      <td>-77.700</td>\n",
              "      <td>CENTRAL PERU</td>\n",
              "      <td>PERU</td>\n",
              "      <td>West Coast of South America</td>\n",
              "      <td>Earthquake</td>\n",
              "      <td>Definite Tsunami</td>\n",
              "      <td>8.5</td>\n",
              "      <td>60.0</td>\n",
              "      <td>3.5</td>\n",
              "      <td>Severe (~&gt;$5 to $24 million)</td>\n",
              "      <td>Many (~101 to 1000 houses)</td>\n",
              "      <td>Few (~1 to 50 people)</td>\n",
              "    </tr>\n",
              "    <tr>\n",
              "      <th>2</th>\n",
              "      <td>212</td>\n",
              "      <td>1604</td>\n",
              "      <td>11.0</td>\n",
              "      <td>24.0</td>\n",
              "      <td>18.0</td>\n",
              "      <td>30.0</td>\n",
              "      <td>-17.880</td>\n",
              "      <td>-70.940</td>\n",
              "      <td>S. PERU</td>\n",
              "      <td>PERU</td>\n",
              "      <td>West Coast of South America</td>\n",
              "      <td>Earthquake</td>\n",
              "      <td>Definite Tsunami</td>\n",
              "      <td>8.5</td>\n",
              "      <td>30.0</td>\n",
              "      <td>3.5</td>\n",
              "      <td>Severe (~&gt;$5 to $24 million)</td>\n",
              "      <td>Many (~101 to 1000 houses)</td>\n",
              "      <td>Many (~101 to 1000 people)</td>\n",
              "    </tr>\n",
              "    <tr>\n",
              "      <th>3</th>\n",
              "      <td>424</td>\n",
              "      <td>1746</td>\n",
              "      <td>10.0</td>\n",
              "      <td>29.0</td>\n",
              "      <td>3.0</td>\n",
              "      <td>30.0</td>\n",
              "      <td>-11.996</td>\n",
              "      <td>-77.198</td>\n",
              "      <td>CENTRAL PERU</td>\n",
              "      <td>PERU</td>\n",
              "      <td>West Coast of South America</td>\n",
              "      <td>Earthquake</td>\n",
              "      <td>Definite Tsunami</td>\n",
              "      <td>8.0</td>\n",
              "      <td>30.0</td>\n",
              "      <td>3.5</td>\n",
              "      <td>Extreme (~$25 million or more)</td>\n",
              "      <td>Very Many (~1001 or more houses)</td>\n",
              "      <td>Very Many (~1001 or more people)</td>\n",
              "    </tr>\n",
              "    <tr>\n",
              "      <th>4</th>\n",
              "      <td>315</td>\n",
              "      <td>1674</td>\n",
              "      <td>2.0</td>\n",
              "      <td>17.0</td>\n",
              "      <td>11.0</td>\n",
              "      <td>30.0</td>\n",
              "      <td>-3.750</td>\n",
              "      <td>127.750</td>\n",
              "      <td>BANDA SEA</td>\n",
              "      <td>INDONESIA</td>\n",
              "      <td>Indonesia (Pacific Ocean) and Malaysia</td>\n",
              "      <td>Earthquake</td>\n",
              "      <td>Definite Tsunami</td>\n",
              "      <td>6.8</td>\n",
              "      <td>40.0</td>\n",
              "      <td>1.5</td>\n",
              "      <td>Severe (~&gt;$5 to $24 million)</td>\n",
              "      <td>Many (~101 to 1000 houses)</td>\n",
              "      <td>Very Many (~1001 or more people)</td>\n",
              "    </tr>\n",
              "  </tbody>\n",
              "</table>\n",
              "</div>"
            ],
            "text/plain": [
              "    ID  ...          DEATHS_TOTAL_DESCRIPTION\n",
              "0  325  ...        Many (~101 to 1000 people)\n",
              "1  194  ...             Few (~1 to 50 people)\n",
              "2  212  ...        Many (~101 to 1000 people)\n",
              "3  424  ...  Very Many (~1001 or more people)\n",
              "4  315  ...  Very Many (~1001 or more people)\n",
              "\n",
              "[5 rows x 19 columns]"
            ]
          },
          "metadata": {
            "tags": []
          },
          "execution_count": 31
        }
      ]
    },
    {
      "cell_type": "code",
      "metadata": {
        "colab": {
          "base_uri": "https://localhost:8080/"
        },
        "id": "NekSnaqCYi7K",
        "outputId": "35bfc92b-7e71-42ce-a8a1-8e21b4037b6e"
      },
      "source": [
        "# Total number of rows and columns\n",
        "df.shape\n",
        "(120, 19)\n",
        "# Rows containing duplicate data\n",
        "duplicate_rows_df = df[df.duplicated()]\n",
        "print('number of duplicate rows: ', duplicate_rows_df.shape)\n",
        "#no duplicate data\n",
        "\n"
      ],
      "execution_count": 32,
      "outputs": [
        {
          "output_type": "stream",
          "text": [
            "number of duplicate rows:  (0, 19)\n"
          ],
          "name": "stdout"
        }
      ]
    },
    {
      "cell_type": "code",
      "metadata": {
        "colab": {
          "base_uri": "https://localhost:8080/"
        },
        "id": "3ARsUgQCY5RY",
        "outputId": "0175d9d7-492c-47e8-82c4-e8087a193d45"
      },
      "source": [
        "# Finding the null values.\n",
        "print(df.isnull().sum())\n"
      ],
      "execution_count": 33,
      "outputs": [
        {
          "output_type": "stream",
          "text": [
            "ID                          0\n",
            "YEAR                        0\n",
            "MONTH                       0\n",
            "DAY                         0\n",
            "HOUR                        0\n",
            "MINUTE                      0\n",
            "LATITUDE                    0\n",
            "LONGITUDE                   0\n",
            "LOCATION_NAME               0\n",
            "COUNTRY                     0\n",
            "REGION                      0\n",
            "CAUSE                       0\n",
            "EVENT_VALIDITY              0\n",
            "EQ_MAGNITUDE                0\n",
            "EQ_DEPTH                    0\n",
            "TS_INTENSITY                0\n",
            "DAMAGE_TOTAL_DESCRIPTION    0\n",
            "HOUSES_TOTAL_DESCRIPTION    0\n",
            "DEATHS_TOTAL_DESCRIPTION    0\n",
            "dtype: int64\n"
          ],
          "name": "stdout"
        }
      ]
    },
    {
      "cell_type": "code",
      "metadata": {
        "id": "jaZT-L_9sCu0"
      },
      "source": [
        "maximum_val = df.groupby('COUNTRY')['EQ_MAGNITUDE'].max()"
      ],
      "execution_count": 39,
      "outputs": []
    },
    {
      "cell_type": "code",
      "metadata": {
        "colab": {
          "base_uri": "https://localhost:8080/"
        },
        "id": "sX53Yjv1vTj3",
        "outputId": "7cba9b26-aa4d-4221-b4a8-6161ed618cd6"
      },
      "source": [
        "maximum_val"
      ],
      "execution_count": 42,
      "outputs": [
        {
          "output_type": "execute_result",
          "data": {
            "text/plain": [
              "COUNTRY\n",
              "ALGERIA             7.7\n",
              "CHILE               9.5\n",
              "CHINA               7.5\n",
              "COLOMBIA            7.7\n",
              "ECUADOR             8.8\n",
              "FIJI                6.4\n",
              "GREECE              7.2\n",
              "INDONESIA           8.3\n",
              "ITALY               7.1\n",
              "JAPAN               8.4\n",
              "MEXICO              8.1\n",
              "MONTENEGRO          6.9\n",
              "NICARAGUA           7.7\n",
              "PANAMA              7.9\n",
              "PAPUA NEW GUINEA    8.0\n",
              "PERU                8.5\n",
              "PHILIPPINES         8.7\n",
              "RUSSIA              8.2\n",
              "SAMOA               8.3\n",
              "SOLOMON ISLANDS     7.9\n",
              "TAIWAN              7.6\n",
              "TURKEY              7.7\n",
              "UKRAINE             6.8\n",
              "USA                 9.2\n",
              "Name: EQ_MAGNITUDE, dtype: float64"
            ]
          },
          "metadata": {
            "tags": []
          },
          "execution_count": 42
        }
      ]
    },
    {
      "cell_type": "code",
      "metadata": {
        "colab": {
          "base_uri": "https://localhost:8080/",
          "height": 419
        },
        "id": "sPFGtPRkpj1A",
        "outputId": "b2666500-353a-4f2f-94d1-647f0bacfe54"
      },
      "source": [
        "maximum_val.plot(kind='bar')\n",
        "plt.title('Tsunami intensity by Country')\n",
        "plt.xlabel('Country')\n",
        "plt.ylabel('TS_INTENSITY')"
      ],
      "execution_count": 68,
      "outputs": [
        {
          "output_type": "execute_result",
          "data": {
            "text/plain": [
              "Text(0, 0.5, 'TS_INTENSITY')"
            ]
          },
          "metadata": {
            "tags": []
          },
          "execution_count": 68
        },
        {
          "output_type": "display_data",
          "data": {
            "image/png": "[encoded data removed]",
            "text/plain": [
              "<Figure size 432x288 with 1 Axes>"
            ]
          },
          "metadata": {
            "tags": []
          }
        }
      ]
    },
    {
      "cell_type": "code",
      "metadata": {
        "id": "OyyvHMp0plqp"
      },
      "source": [
        "TS_Occurance=df['COUNTRY'].value_counts()"
      ],
      "execution_count": 47,
      "outputs": []
    },
    {
      "cell_type": "code",
      "metadata": {
        "colab": {
          "base_uri": "https://localhost:8080/"
        },
        "id": "m8CKGKbQyWWq",
        "outputId": "35de02b5-0c7e-4dd6-ee93-ccf27cd60609"
      },
      "source": [
        "TS_Occurance"
      ],
      "execution_count": 48,
      "outputs": [
        {
          "output_type": "execute_result",
          "data": {
            "text/plain": [
              "JAPAN               23\n",
              "INDONESIA           16\n",
              "PERU                12\n",
              "CHILE               11\n",
              "PHILIPPINES         10\n",
              "GREECE               8\n",
              "PAPUA NEW GUINEA     6\n",
              "MEXICO               6\n",
              "USA                  5\n",
              "ITALY                3\n",
              "TAIWAN               3\n",
              "SOLOMON ISLANDS      2\n",
              "ECUADOR              2\n",
              "RUSSIA               2\n",
              "ALGERIA              2\n",
              "SAMOA                2\n",
              "PANAMA               1\n",
              "CHINA                1\n",
              "NICARAGUA            1\n",
              "FIJI                 1\n",
              "COLOMBIA             1\n",
              "MONTENEGRO           1\n",
              "UKRAINE              1\n",
              "TURKEY               1\n",
              "Name: COUNTRY, dtype: int64"
            ]
          },
          "metadata": {
            "tags": []
          },
          "execution_count": 48
        }
      ]
    },
    {
      "cell_type": "code",
      "metadata": {
        "colab": {
          "base_uri": "https://localhost:8080/",
          "height": 419
        },
        "id": "KFcKhgSJyYJU",
        "outputId": "d7b26a09-ecb4-40eb-e908-02cee811acf4"
      },
      "source": [
        "TS_Occurance.plot(kind='bar')\n",
        "plt.title('Tsunami intensity by Country')\n",
        "plt.xlabel('Country')\n",
        "plt.ylabel('Occurance of Tsunami')"
      ],
      "execution_count": 69,
      "outputs": [
        {
          "output_type": "execute_result",
          "data": {
            "text/plain": [
              "Text(0, 0.5, 'Occurance of Tsunami')"
            ]
          },
          "metadata": {
            "tags": []
          },
          "execution_count": 69
        },
        {
          "output_type": "display_data",
          "data": {
            "image/png": "[encoded data removed]",
            "text/plain": [
              "<Figure size 432x288 with 1 Axes>"
            ]
          },
          "metadata": {
            "tags": []
          }
        }
      ]
    },
    {
      "cell_type": "code",
      "metadata": {
        "colab": {
          "base_uri": "https://localhost:8080/",
          "height": 309
        },
        "id": "Nf91ZcvDy4zO",
        "outputId": "7ea2b2a8-e724-4cac-da86-ca4571426524"
      },
      "source": [
        "df.plot(x='EQ_MAGNITUDE', y='TS_INTENSITY',kind='bar')"
      ],
      "execution_count": 61,
      "outputs": [
        {
          "output_type": "execute_result",
          "data": {
            "text/plain": [
              "<matplotlib.axes._subplots.AxesSubplot at 0x7f5aa4263310>"
            ]
          },
          "metadata": {
            "tags": []
          },
          "execution_count": 61
        },
        {
          "output_type": "display_data",
          "data": {
            "image/png": "[encoded data removed]",
            "text/plain": [
              "<Figure size 432x288 with 1 Axes>"
            ]
          },
          "metadata": {
            "tags": []
          }
        }
      ]
    },
    {
      "cell_type": "code",
      "metadata": {
        "id": "iaXi4Y3s3GY_"
      },
      "source": [
        "occurance_count=df['MONTH'].value_counts()"
      ],
      "execution_count": 62,
      "outputs": []
    },
    {
      "cell_type": "code",
      "metadata": {
        "colab": {
          "base_uri": "https://localhost:8080/",
          "height": 332
        },
        "id": "HI_VIUV73ZfN",
        "outputId": "9dd8dc21-c948-42e4-a6a5-116b8f20f7c7"
      },
      "source": [
        "occurance_count.plot(kind='bar')\n",
        "plt.title('Occurance of Tsunami by Month of the year')\n",
        "plt.ylabel('Number of Occurances of Tsunami ')\n",
        "plt.xlabel('Month')"
      ],
      "execution_count": 67,
      "outputs": [
        {
          "output_type": "execute_result",
          "data": {
            "text/plain": [
              "Text(0.5, 0, 'Month')"
            ]
          },
          "metadata": {
            "tags": []
          },
          "execution_count": 67
        },
        {
          "output_type": "display_data",
          "data": {
            "image/png": "[encoded data removed]",
            "text/plain": [
              "<Figure size 432x288 with 1 Axes>"
            ]
          },
          "metadata": {
            "tags": []
          }
        }
      ]
    },
    {
      "cell_type": "code",
      "metadata": {
        "id": "W_cLXhtl5Fq1"
      },
      "source": [
        ""
      ],
      "execution_count": null,
      "outputs": []
    }
  ]
}